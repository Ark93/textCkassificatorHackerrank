{
 "cells": [
  {
   "cell_type": "code",
   "execution_count": 1,
   "metadata": {
    "collapsed": false
   },
   "outputs": [],
   "source": [
    "from __future__ import division\n",
    "import numpy as np\n",
    "import math\n",
    "import pandas as pd\n",
    "from collections import Counter\n",
    "import random"
   ]
  },
  {
   "cell_type": "code",
   "execution_count": 2,
   "metadata": {
    "collapsed": false
   },
   "outputs": [],
   "source": [
    "#reading data\n",
    "yx = []\n",
    "x = []\n",
    "full_text = []\n",
    "with open('DocumentClassificationTrainingData.txt') as fi:\n",
    "    num = fi.readline()\n",
    "    for line in fi:\n",
    "        line = line.replace('\\n','')\n",
    "        data = line.strip().split(' ')\n",
    "        yx.append(int(data[0]))\n",
    "        x.append(Counter(data[1:]))\n",
    "    fi.close()"
   ]
  },
  {
   "cell_type": "code",
   "execution_count": 3,
   "metadata": {
    "collapsed": true
   },
   "outputs": [],
   "source": [
    "frame = pd.DataFrame(x)"
   ]
  },
  {
   "cell_type": "code",
   "execution_count": 4,
   "metadata": {
    "collapsed": false
   },
   "outputs": [],
   "source": [
    "frame['label'] = yx"
   ]
  },
  {
   "cell_type": "code",
   "execution_count": 5,
   "metadata": {
    "collapsed": false
   },
   "outputs": [],
   "source": [
    "binary_frame = frame[(frame['label']==1)|\n",
    "                     (frame['label']==2)]"
   ]
  },
  {
   "cell_type": "code",
   "execution_count": 6,
   "metadata": {
    "collapsed": false
   },
   "outputs": [],
   "source": [
    "features = frame.columns[:-1]"
   ]
  },
  {
   "cell_type": "code",
   "execution_count": 7,
   "metadata": {
    "collapsed": false
   },
   "outputs": [],
   "source": [
    "binary_frame=binary_frame.fillna(0)"
   ]
  },
  {
   "cell_type": "code",
   "execution_count": 8,
   "metadata": {
    "collapsed": false
   },
   "outputs": [],
   "source": [
    "hxtrain = binary_frame[features].as_matrix()[:-100]\n",
    "yxtrain = binary_frame['label'].as_matrix()[:-100]"
   ]
  },
  {
   "cell_type": "code",
   "execution_count": 14,
   "metadata": {
    "collapsed": false
   },
   "outputs": [],
   "source": [
    "hxtest = binary_frame[features].as_matrix()[-100:]\n",
    "yxtest = binary_frame['label'].as_matrix()[-100:]\n",
    "hxtrain2 = hxtrain[:50]\n",
    "yxtrain2 = yxtrain[:50]"
   ]
  },
  {
   "cell_type": "code",
   "execution_count": 15,
   "metadata": {
    "collapsed": false
   },
   "outputs": [],
   "source": [
    "W = np.random.rand(1,len(features))[0]"
   ]
  },
  {
   "cell_type": "code",
   "execution_count": 16,
   "metadata": {
    "collapsed": true
   },
   "outputs": [],
   "source": [
    "def logistic(x):\n",
    "    return 1 / (1+math.exp(-x))"
   ]
  },
  {
   "cell_type": "code",
   "execution_count": 17,
   "metadata": {
    "collapsed": true
   },
   "outputs": [],
   "source": [
    "def getProbabilitie(X,W):\n",
    "    y_h=[logistic(np.dot(x_i,W)) for x_i in X]\n",
    "    return y_h"
   ]
  },
  {
   "cell_type": "code",
   "execution_count": 18,
   "metadata": {
    "collapsed": true
   },
   "outputs": [],
   "source": [
    "def getIntBool(y):\n",
    "    if(y==+1):\n",
    "        return 1\n",
    "    else:\n",
    "        return 0"
   ]
  },
  {
   "cell_type": "code",
   "execution_count": 19,
   "metadata": {
    "collapsed": false
   },
   "outputs": [],
   "source": [
    "def getErrorIndicator(Y,Y_h):\n",
    "    indicator = map(getIntBool, Y)\n",
    "    error = [(ind_i - y_h) for ind_i,y_h in zip(indicator,Y_h)]\n",
    "    return error"
   ]
  },
  {
   "cell_type": "code",
   "execution_count": 20,
   "metadata": {
    "collapsed": true
   },
   "outputs": [],
   "source": [
    "def getDerivative_j(error,hx_feature):\n",
    "    return np.dot(error,hx_feature)"
   ]
  },
  {
   "cell_type": "code",
   "execution_count": 21,
   "metadata": {
    "collapsed": true
   },
   "outputs": [],
   "source": [
    "def getGradient(error,hx,W):\n",
    "    gradient = np.zeros(len(W))\n",
    "    for j,_ in enumerate(W):\n",
    "        gradient[j] = getDerivative_j(error,hx[:,j])\n",
    "    return gradient"
   ]
  },
  {
   "cell_type": "code",
   "execution_count": 22,
   "metadata": {
    "collapsed": true
   },
   "outputs": [],
   "source": [
    "def updateCoefficient(W,gradient,step_size):\n",
    "    W = W + step_size*gradient\n",
    "    return W"
   ]
  },
  {
   "cell_type": "code",
   "execution_count": 23,
   "metadata": {
    "collapsed": false
   },
   "outputs": [],
   "source": [
    "def getLogLikelihood_i(yi,y_hi):\n",
    "    ly_hi = math.log(y_hi)\n",
    "    if(yi == 1):\n",
    "        return  ly_hi\n",
    "    else:\n",
    "        return (1-ly_hi)"
   ]
  },
  {
   "cell_type": "code",
   "execution_count": 24,
   "metadata": {
    "collapsed": false
   },
   "outputs": [],
   "source": [
    "y_h = getProbabilitie(hxtrain2,W)"
   ]
  },
  {
   "cell_type": "code",
   "execution_count": 25,
   "metadata": {
    "collapsed": false
   },
   "outputs": [],
   "source": [
    "ll = sum(getLogLikelihood_i(y_i,yh_i) for y_i,yh_i in zip(yxtrain2,y_h)) "
   ]
  },
  {
   "cell_type": "code",
   "execution_count": 26,
   "metadata": {
    "collapsed": false
   },
   "outputs": [
    {
     "name": "stdout",
     "output_type": "stream",
     "text": [
      "log likelihood: 8.98749788938\n"
     ]
    }
   ],
   "source": [
    "print \"log likelihood: \" + str(ll)"
   ]
  },
  {
   "cell_type": "code",
   "execution_count": 27,
   "metadata": {
    "collapsed": false
   },
   "outputs": [],
   "source": [
    "error = getErrorIndicator(yxtrain2,y_h)"
   ]
  },
  {
   "cell_type": "code",
   "execution_count": 28,
   "metadata": {
    "collapsed": false
   },
   "outputs": [],
   "source": [
    "gradient = getGradient(error,hxtrain2,W)"
   ]
  },
  {
   "cell_type": "code",
   "execution_count": 29,
   "metadata": {
    "collapsed": false
   },
   "outputs": [],
   "source": [
    "W = updateCoefficient(W,gradient,0.1)"
   ]
  },
  {
   "cell_type": "code",
   "execution_count": 30,
   "metadata": {
    "collapsed": true
   },
   "outputs": [],
   "source": [
    "y_h = getProbabilitie(hxtrain2,W)"
   ]
  },
  {
   "cell_type": "code",
   "execution_count": 31,
   "metadata": {
    "collapsed": true
   },
   "outputs": [],
   "source": [
    "ll = sum(getLogLikelihood_i(y_i,yh_i) for y_i,yh_i in zip(yxtrain2,y_h)) "
   ]
  },
  {
   "cell_type": "code",
   "execution_count": 32,
   "metadata": {
    "collapsed": false
   },
   "outputs": [
    {
     "name": "stdout",
     "output_type": "stream",
     "text": [
      "log likelihood: 245.176636528\n"
     ]
    }
   ],
   "source": [
    "print \"log likelihood: \" + str(ll)"
   ]
  },
  {
   "cell_type": "code",
   "execution_count": 60,
   "metadata": {
    "collapsed": false
   },
   "outputs": [
    {
     "name": "stdout",
     "output_type": "stream",
     "text": [
      "log likelihood: 1053.3616808 i= 0\n"
     ]
    }
   ],
   "source": [
    "for i in xrange(1):\n",
    "    y_h = getProbabilitie(hxtrain2,W)\n",
    "    error = getErrorIndicator(yxtrain2,y_h)\n",
    "    gradient = getGradient(error,hxtrain2,W)\n",
    "    W = updateCoefficient(W,gradient,0.1)\n",
    "    ll = sum(getLogLikelihood_i(y_i,yh_i) for y_i,yh_i in zip(yxtrain2,y_h))\n",
    "    print \"log likelihood: \" + str(ll) + \" i= \" + str(i)"
   ]
  },
  {
   "cell_type": "code",
   "execution_count": 56,
   "metadata": {
    "collapsed": false
   },
   "outputs": [],
   "source": [
    "yx_indicator = map(getIntBool,yxtrain2)"
   ]
  },
  {
   "cell_type": "code",
   "execution_count": 57,
   "metadata": {
    "collapsed": false
   },
   "outputs": [],
   "source": [
    "y_h_disc = [round(y_hi) for y_hi in y_h]"
   ]
  },
  {
   "cell_type": "code",
   "execution_count": 58,
   "metadata": {
    "collapsed": false
   },
   "outputs": [],
   "source": [
    "error_class = sum([(y-yh) for y,yh in zip(yx_indicator,y_h_disc)])"
   ]
  },
  {
   "cell_type": "code",
   "execution_count": 59,
   "metadata": {
    "collapsed": false
   },
   "outputs": [
    {
     "data": {
      "text/plain": [
       "0.0"
      ]
     },
     "execution_count": 59,
     "metadata": {},
     "output_type": "execute_result"
    }
   ],
   "source": [
    "error_class"
   ]
  }
 ],
 "metadata": {
  "kernelspec": {
   "display_name": "Python 3",
   "language": "python",
   "name": "python3"
  },
  "language_info": {
   "codemirror_mode": {
    "name": "ipython",
    "version": 3
   },
   "file_extension": ".py",
   "mimetype": "text/x-python",
   "name": "python",
   "nbconvert_exporter": "python",
   "pygments_lexer": "ipython3",
   "version": "3.5.1"
  }
 },
 "nbformat": 4,
 "nbformat_minor": 0
}
